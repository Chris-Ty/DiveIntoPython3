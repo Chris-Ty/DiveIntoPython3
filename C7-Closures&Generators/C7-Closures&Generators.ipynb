{
 "cells": [
  {
   "cell_type": "markdown",
   "metadata": {},
   "source": [
    "# Get started\n",
    "------\n",
    "https://www.runoob.com/python3/python3-iterator-generator.html"
   ]
  },
  {
   "cell_type": "markdown",
   "metadata": {},
   "source": [
    "### 生成器\n",
    "------\n",
    "在 Python 中，使用了 yield 的函数被称为生成器（generator）。\n",
    "\n",
    "跟普通函数不同的是，生成器是一个返回迭代器的函数，只能用于迭代操作，更简单点理解生成器就是一个迭代器。\n",
    "\n",
    "在调用生成器运行的过程中，每次遇到 yield 时函数会暂停并保存当前所有的运行信息，返回 yield 的值, 并在下一次执行 next() 方法时从当前位置继续运行。\n",
    "\n",
    "调用一个生成器函数，返回的是一个迭代器对象。"
   ]
  },
  {
   "cell_type": "markdown",
   "metadata": {},
   "source": [
    "__以下实例使用 yield 实现斐波那契数列:__"
   ]
  },
  {
   "cell_type": "code",
   "execution_count": 10,
   "metadata": {},
   "outputs": [
    {
     "name": "stdout",
     "output_type": "stream",
     "text": [
      "0 1 1 2 3 5 8 13 21 34 55 "
     ]
    },
    {
     "ename": "SystemExit",
     "evalue": "",
     "output_type": "error",
     "traceback": [
      "An exception has occurred, use %tb to see the full traceback.\n",
      "\u001b[0;31mSystemExit\u001b[0m\n"
     ]
    }
   ],
   "source": [
    "import sys\n",
    "\n",
    "def fibonacci(n): # 生成器函数 - 斐波那契\n",
    "    a, b, counter = 0, 1, 0\n",
    "    while True:\n",
    "        if (counter > n):\n",
    "            return\n",
    "        yield a\n",
    "        a, b = b, a + b\n",
    "        counter += 1\n",
    "\n",
    "f = fibonacci(10) # f 是一个迭代器，由生成器返回生成（生成器是一类特殊的迭代器）\n",
    "while True:\n",
    "    try:\n",
    "        print(next(f), end=' ')\n",
    "    except StopIteration:\n",
    "        sys.exit()"
   ]
  },
  {
   "cell_type": "markdown",
   "metadata": {},
   "source": [
    "# 闭合器和生成器 Closures & Generators\n",
    "-----\n",
    "建议结合书目看/回顾"
   ]
  },
  {
   "cell_type": "markdown",
   "metadata": {},
   "source": [
    "### Get started，利用re做复数转换"
   ]
  },
  {
   "cell_type": "code",
   "execution_count": 6,
   "metadata": {},
   "outputs": [],
   "source": [
    "import re"
   ]
  },
  {
   "cell_type": "code",
   "execution_count": 9,
   "metadata": {},
   "outputs": [],
   "source": [
    "# 定义几种(4种)基于规则的复数转换方式\n",
    "def plural(noun): # plural 复数形式、复数的\n",
    "    if re.search('[sxz]', noun): # 回忆上一章节，re匹配不到将会返回None\n",
    "        return re.sub('$', 'es', noun) # 基于re的字符串替换 re.sub()\n",
    "    \n",
    "    # []中的^有特别含义：非;这里指的是h前紧跟的字母不是这些里面的一个。\n",
    "    elif re.search('[^aeioudgkprt]h$', noun): # 发音以非aeiou等+h结尾，要加es\n",
    "        return re.sub('$', 'es', noun)\n",
    "    # 如果某个单词以发 I 音的字母 Y 结尾，将 Y 改成 IES;如果 Y 与某个原因字母组合发其它音的话，只需加上 S 。因此 vacancy 变成 vacancies，但 day 变成 days 。\n",
    "    elif re.search('[^aeiou]y$', noun):\n",
    "        return re.sub('y$', 'ies', noun)\n",
    "    else:\n",
    "        return noun + 's'"
   ]
  },
  {
   "cell_type": "code",
   "execution_count": 5,
   "metadata": {},
   "outputs": [
    {
     "data": {
      "text/plain": [
       "'peaches'"
      ]
     },
     "execution_count": 5,
     "metadata": {},
     "output_type": "execute_result"
    }
   ],
   "source": [
    "plural('peach')"
   ]
  },
  {
   "cell_type": "markdown",
   "metadata": {},
   "source": [
    "以上四种简单的规则并为实现sheep、man、deer等的复数"
   ]
  },
  {
   "cell_type": "markdown",
   "metadata": {},
   "source": [
    "看一下正则表达式替换的细节"
   ]
  },
  {
   "cell_type": "code",
   "execution_count": 26,
   "metadata": {},
   "outputs": [
    {
     "data": {
      "text/plain": [
       "<re.Match object; span=(1, 2), match='a'>"
      ]
     },
     "execution_count": 26,
     "metadata": {},
     "output_type": "execute_result"
    }
   ],
   "source": [
    "re.search('[abc]', 'Mark')"
   ]
  },
  {
   "cell_type": "code",
   "execution_count": 27,
   "metadata": {},
   "outputs": [
    {
     "data": {
      "text/plain": [
       "'Mork'"
      ]
     },
     "execution_count": 27,
     "metadata": {},
     "output_type": "execute_result"
    }
   ],
   "source": [
    "re.sub('[abc]', 'o', 'Mark')"
   ]
  },
  {
   "cell_type": "code",
   "execution_count": 31,
   "metadata": {},
   "outputs": [
    {
     "data": {
      "text/plain": [
       "'oops'"
      ]
     },
     "execution_count": 31,
     "metadata": {},
     "output_type": "execute_result"
    }
   ],
   "source": [
    "# re.sub 会 替换 所有的 匹配项, 而不仅仅是第一个匹配项\n",
    "re.sub('[abc]', 'o', 'caps')"
   ]
  },
  {
   "cell_type": "markdown",
   "metadata": {},
   "source": [
    "看看“否定”正则表达式的更多细节"
   ]
  },
  {
   "cell_type": "code",
   "execution_count": 35,
   "metadata": {},
   "outputs": [
    {
     "data": {
      "text/plain": [
       "<re.Match object; span=(5, 7), match='cy'>"
      ]
     },
     "execution_count": 35,
     "metadata": {},
     "output_type": "execute_result"
    }
   ],
   "source": [
    "re.search('[^aeiou]y$', 'vacancy')"
   ]
  },
  {
   "cell_type": "code",
   "execution_count": 39,
   "metadata": {},
   "outputs": [],
   "source": [
    "re.search('[^aeiou]y$', 'boy')"
   ]
  },
  {
   "cell_type": "code",
   "execution_count": 42,
   "metadata": {},
   "outputs": [
    {
     "data": {
      "text/plain": [
       "'vacancies'"
      ]
     },
     "execution_count": 42,
     "metadata": {},
     "output_type": "execute_result"
    }
   ],
   "source": [
    "re.sub('y$', 'ies', 'vacancy')"
   ]
  },
  {
   "cell_type": "code",
   "execution_count": 43,
   "metadata": {},
   "outputs": [
    {
     "data": {
      "text/plain": [
       "'agencies'"
      ]
     },
     "execution_count": 43,
     "metadata": {},
     "output_type": "execute_result"
    }
   ],
   "source": [
    "re.sub('y$', 'ies', 'agency')"
   ]
  },
  {
   "cell_type": "code",
   "execution_count": 46,
   "metadata": {},
   "outputs": [
    {
     "data": {
      "text/plain": [
       "'vacancies'"
      ]
     },
     "execution_count": 46,
     "metadata": {},
     "output_type": "execute_result"
    }
   ],
   "source": [
    "# 可以将该两条正则表达式合并起来(一条 查找是否应用该规则，\n",
    "# 另一条实际应用规则)，使其成为一条 正则表达式\n",
    "re.sub('([^aeiou])y$', r'\\1ies', 'vacancy')\n",
    "# 第一个分组用于保存字母y之前的字符\n",
    "# 第二个分组使用了新的语法，表示将之前记住的分组放到这里"
   ]
  },
  {
   "cell_type": "markdown",
   "metadata": {},
   "source": [
    "### 函数列表 A List Of Functions"
   ]
  },
  {
   "cell_type": "markdown",
   "metadata": {},
   "source": [
    "现在要增加一些抽象层次的内容。我们开始时定义了一系列规则:如果这样，那样做;否则前往下一条规则。\n",
    "\n",
    "现在让我们对部分程序进行临时的复杂化，以简化另一部分。\n",
    "\n",
    "模块化 附加抽象层\n",
    "\n",
    "Python中一切都是对象，包括函数，故而数据结构rules包含了函数——不是函数名称，而是实际的函数对象。"
   ]
  },
  {
   "cell_type": "code",
   "execution_count": 153,
   "metadata": {},
   "outputs": [],
   "source": [
    "import re "
   ]
  },
  {
   "cell_type": "code",
   "execution_count": 154,
   "metadata": {},
   "outputs": [],
   "source": [
    "def match_sxz(noun):\n",
    "    return re.search('[sxz]$', noun)"
   ]
  },
  {
   "cell_type": "code",
   "execution_count": 155,
   "metadata": {},
   "outputs": [],
   "source": [
    "def apply_sxz(noun):\n",
    "    return re.sub('$', 'es', noun)"
   ]
  },
  {
   "cell_type": "code",
   "execution_count": 156,
   "metadata": {},
   "outputs": [],
   "source": [
    "def match_h(noun):\n",
    "    return re.search('[^aeioudgkprt]h$', noun)"
   ]
  },
  {
   "cell_type": "code",
   "execution_count": 157,
   "metadata": {},
   "outputs": [],
   "source": [
    "def apply_h(noun):\n",
    "    return re.sub('$', 'es', noun)"
   ]
  },
  {
   "cell_type": "code",
   "execution_count": 158,
   "metadata": {},
   "outputs": [],
   "source": [
    "def match_y(noun):\n",
    "    return re.search('[^aeiou]y$', noun)"
   ]
  },
  {
   "cell_type": "code",
   "execution_count": 159,
   "metadata": {},
   "outputs": [],
   "source": [
    "def apply_y(noun):\n",
    "    return re.sub('y$', 'ies', noun)"
   ]
  },
  {
   "cell_type": "code",
   "execution_count": 160,
   "metadata": {},
   "outputs": [],
   "source": [
    "def match_default(noun):\n",
    "    return True"
   ]
  },
  {
   "cell_type": "code",
   "execution_count": 161,
   "metadata": {},
   "outputs": [],
   "source": [
    "def apply_default(noun):\n",
    "    return noun + 's'"
   ]
  },
  {
   "cell_type": "code",
   "execution_count": 162,
   "metadata": {},
   "outputs": [],
   "source": [
    "# 函数列表\n",
    "\n",
    "rules = ((match_sxz, apply_sxz),\n",
    "        (match_h, apply_h),\n",
    "        (match_y, apply_y),\n",
    "        (match_default, apply_default)\n",
    "        )"
   ]
  },
  {
   "cell_type": "code",
   "execution_count": 163,
   "metadata": {},
   "outputs": [
    {
     "data": {
      "text/plain": [
       "tuple"
      ]
     },
     "execution_count": 163,
     "metadata": {},
     "output_type": "execute_result"
    }
   ],
   "source": [
    "type(rules)"
   ]
  },
  {
   "cell_type": "code",
   "execution_count": 166,
   "metadata": {},
   "outputs": [],
   "source": [
    "def plural(noun):\n",
    "    for match_rule, apply_rule in rules:\n",
    "        if match_rule(noun):\n",
    "            return apply_rule(noun)"
   ]
  },
  {
   "cell_type": "code",
   "execution_count": 167,
   "metadata": {},
   "outputs": [
    {
     "data": {
      "text/plain": [
       "'words'"
      ]
     },
     "execution_count": 167,
     "metadata": {},
     "output_type": "execute_result"
    }
   ],
   "source": [
    "# 测试\n",
    "plural('word')"
   ]
  },
  {
   "cell_type": "markdown",
   "metadata": {},
   "source": [
    "### 匹配模式列表 (A List Of Patterns)  （）\n",
    "------\n",
    "1. 如果要新加规则，引入其\n",
    "\n",
    "2. 闭合 Closures\n",
    "\n",
    "【其实并不是真的有必要为每个匹配和应用规则定义各自的命名函数。】\n",
    "\n",
    "它们从未直接被调用，而只是被添加到 rules 序列并从该处被调用。\n",
    "\n",
    "此外，每个函数遵循任意模式的其中之一。所有的匹配函数调用re.search()，而所有的应用函数调用 re.sub()。\n",
    "\n",
    "让我们将模式排除在考虑因素之外，使新规则定义更加简单。"
   ]
  },
  {
   "cell_type": "code",
   "execution_count": 168,
   "metadata": {},
   "outputs": [],
   "source": [
    "import re"
   ]
  },
  {
   "cell_type": "code",
   "execution_count": 169,
   "metadata": {},
   "outputs": [],
   "source": [
    "# 用于动态创建其他函数，接受p,s,r三个参数\n",
    "def build_match_and_apply_functions(pattern, search, replace):\n",
    "    def matches_rule(word):# 1\n",
    "        return re.search(pattern, word)\n",
    "    def apply_rule(word): # 2\n",
    "        return re.sub(search, replace, word)\n",
    "    return (matches_rule, apply_rule) # 3"
   ]
  },
  {
   "cell_type": "markdown",
   "metadata": {},
   "source": [
    "1. build_match_and_apply_functions() 函数用于动态创建函数。它接受 pattern、 search 和 replace 三个参数，并定义了 matches_rule() 函数，该函数通过传给 build_match_and_apply_functions() 函数的 pattern 及【传递给 所创建的matchs_rules()函数的word】调用 re.search() 函数。\n",
    "\n",
    "\n",
    "2. apply_rule函数的创建工作采用了同样的方式。应用函数只接收一个参数。【在动态函数中使用外部参数值的技术称为闭合【closures】】。【基本上，常量的创建工作都在创建应用函数过程中完成:它接受一个参数 (word)，但实际操作还加上了另外两个值(search 和 replace)，该两个值都在定义应用函数时进行设置。】\n",
    "\n",
    "\n",
    "3. 最后，build_match_and_apply_functions() 函数返回一个包含两个值的元组:即刚才所创建的两个函数。在这些函数中定义的常量( match_rule() 函数中的 pattern 函数，apply_rule()函数中的 search 和 replace )与这些函数呆在一起，即便是在 从 build_match_and_apply_functions() 中返回后也一样。这真 是非常酷的一件事情。\n",
    "\n",
    "\n",
    "但如果此方式导致了难以置信的混乱(应该是这样，它确实有点奇怪)，在看看如何使用之后可能会清晰一些。\n"
   ]
  },
  {
   "cell_type": "code",
   "execution_count": 212,
   "metadata": {},
   "outputs": [],
   "source": [
    "# Go on...\n",
    "\n",
    "patterns = \\\n",
    "(\n",
    "    ('[sxz]$',           '$',  'es'), # 1\n",
    "    ('[^aeioudgkprt]h$', '$',  'es'),\n",
    "    ('(qu|[^aeiou])y$',  'y$', 'ies'),\n",
    "    ('$',                '$',  's' )\n",
    "# 2\n",
    ")\n",
    "# 3\n",
    "rules = [build_match_and_apply_functions(pattern, search, replace) \\\n",
    "        for (pattern, search, replace) in patterns]"
   ]
  },
  {
   "cell_type": "markdown",
   "metadata": {},
   "source": [
    "1. 复数构成的“规则——rules”现在被定义为一个字符串的元组的元组 (而非函数)。每个元组的第一个字符串是在re.search()中用于判断该规则是否匹配的正则表达式。\n",
    "\n",
    "各组中的第二和第三个字符串是在 re.sub() 中将实际用于使用规则将名词转换为复数形式的搜索和替换表达式。\n",
    "2. 此处的后备规则略有变化。在前例中，match_default() 函数 仅返回 True，意思是如果更多的指定规则无一匹配，代码将简 单地向给定词汇的尾部添加一个 s。本例则进行了一些功能等 同的操作。最后的正则表达式询问单词是否有一个结尾(\\$ 匹 配字符串的结尾)。当然，每个字符串都有一个结尾，甚至是 空字符串也有，因此该规则将始终被匹配。因此，【它实现了 match_default() 函数同样的目的，始终返回 True:它确保了如果没有更多的指定规则用于匹配，代码将向给定单词的尾部增加一个s。】\n",
    "3. （可略看）本行代码非常神奇。它以 patterns 中的字符串序列为参数， 并将其转换为一个函数序列(列表推导式)。怎么做到的?通过将字符串“映射”到 build_match_and_apply_functions() 函数。也就是说， 它接受每组三重字符串为参数，并将该三个字符串作为实参调用build_match_and_apply_functions() 函数。 【build_match_and_apply_functions() 函数返回一个包含两个函数的元组。】也就是说该规则最后的结尾与前例在功能上是等价的:一个元组列表，每个元组都是一对函数。第一个函数是调用 re.search() 的匹配函数;而第二个函数调用 re.sub() 的应 用函数。\n"
   ]
  },
  {
   "cell_type": "code",
   "execution_count": 213,
   "metadata": {},
   "outputs": [
    {
     "data": {
      "text/plain": [
       "(<function __main__.build_match_and_apply_functions.<locals>.matches_rule(word)>,\n",
       " <function __main__.build_match_and_apply_functions.<locals>.apply_rule(word)>)"
      ]
     },
     "execution_count": 213,
     "metadata": {},
     "output_type": "execute_result"
    }
   ],
   "source": [
    "rules[0]"
   ]
  },
  {
   "cell_type": "code",
   "execution_count": 214,
   "metadata": {},
   "outputs": [],
   "source": [
    "# 此版本脚本的最前面是主入口点——plural()函数\n",
    "\n",
    "def plural(noun):\n",
    "    for matches_rule, apply_rule in rules:\n",
    "        if matches_rule(noun):\n",
    "            return apply_rule(noun)"
   ]
  },
  {
   "cell_type": "code",
   "execution_count": 215,
   "metadata": {},
   "outputs": [
    {
     "data": {
      "text/plain": [
       "'watches'"
      ]
     },
     "execution_count": 215,
     "metadata": {},
     "output_type": "execute_result"
    }
   ],
   "source": [
    "plural('watch')"
   ]
  },
  {
   "cell_type": "code",
   "execution_count": 42,
   "metadata": {},
   "outputs": [],
   "source": [
    "# 总结：为了演示Python特性，有些过于复杂"
   ]
  },
  {
   "cell_type": "markdown",
   "metadata": {},
   "source": [
    "### A File Of Patterns 模式文件 \n",
    "------\n",
    "目前，已经排除了重复代码，增加了足够的抽象性，因此复数\n",
    "形式规则可以字符串列表的形式进行定义。下一个逻辑步骤是\n",
    "将这些字符串放入一个单独的文件中，因此可独立于使用它们\n",
    "的代码来进行维护。Good...\n",
    "\n",
    "文件：plural.ipynb   plural-rules.txt"
   ]
  },
  {
   "cell_type": "code",
   "execution_count": 226,
   "metadata": {},
   "outputs": [],
   "source": [
    "import re\n",
    "\n",
    "def build_match_and_apply_functions(patter, search, replace):\n",
    "    def matches_rule(word):\n",
    "        return re.search(pattern, word)\n",
    "    def apply_rule(word):\n",
    "        return re.sub(search, replace, word)\n",
    "    return (matches_rule, apply_rule)\n",
    "\n",
    "# 从外部rules独立文件中读取内容\n",
    "rules = []\n",
    "with open('plural-rules.txt', encoding='utf-8') as pattern_file:\n",
    "    for line in pattern_file:\n",
    "        pattern, search, replace = line.split(None, 3) # 4\n",
    "        rules.append(build_match_and_apply_functions(pattern,search,replace))"
   ]
  },
  {
   "cell_type": "code",
   "execution_count": 232,
   "metadata": {},
   "outputs": [
    {
     "data": {
      "text/plain": [
       "4"
      ]
     },
     "execution_count": 232,
     "metadata": {},
     "output_type": "execute_result"
    }
   ],
   "source": [
    "# 看一下rules规则列表\n",
    "len(rules) # 4 个 规则"
   ]
  },
  {
   "cell_type": "code",
   "execution_count": 228,
   "metadata": {},
   "outputs": [
    {
     "data": {
      "text/plain": [
       "'wches'"
      ]
     },
     "execution_count": 228,
     "metadata": {},
     "output_type": "execute_result"
    }
   ],
   "source": [
    "# 函数统一入口\n",
    "\n",
    "def plural(noun):\n",
    "    for matches_rule, apply_rule in rules:\n",
    "        if matches_rule(noun):\n",
    "            return apply_rule(noun)\n",
    "        \n",
    "plural('wch')"
   ]
  },
  {
   "cell_type": "markdown",
   "metadata": {},
   "source": [
    "最后，将 pattern 、 search 和 replace 传入build_match_and_apply_functions() 函数，它将返回一个函数 的元组。将该元组添加到 rules 列表，最终 rules 将储存 plural() 函数所预期的匹配和应用函数列表。 此处的改进是将复数形式规则独立地放到了一份外部文件中， 因此可独立于使用它的代码单独对规则进行维护。代码是代 码，数据是数据，生活更美好"
   ]
  },
  {
   "cell_type": "markdown",
   "metadata": {},
   "source": [
    "### Generators 生成器（存档点）\n",
    "--------\n",
    "如果有个通用 plural()函数解析规则文件不就更棒了吗?获取规则，检查匹配，应用相应的转换，进入下一条规则。这是 plural() 函数所必须完成的事，也是plural() 函数必须做的事。"
   ]
  },
  {
   "cell_type": "code",
   "execution_count": 193,
   "metadata": {},
   "outputs": [],
   "source": [
    "def rules(rules_filename):\n",
    "    with open(rules_filename, encoding='utf-8') as pattern_file:\n",
    "        for line in pattern_file:\n",
    "            pattern,search,replace = line.split(None,3) # 0或多个空白分隔符，获取3列\n",
    "            yield build_match_and_apply_functions(pattern,search,replace)\n",
    "\n",
    "def plural(noun, rules_filename='plural-rules.txt'):\n",
    "    for m_r, a_r in rules(rules_filename):\n",
    "        if m_r(noun):\n",
    "            return a_r(noun)\n",
    "    raise ValueError('no matching rule for {0}'.format(noun))"
   ]
  },
  {
   "cell_type": "markdown",
   "metadata": {},
   "source": [
    "这段代码到底如何运作？我们先看一个交互式（更简单）的例子。"
   ]
  },
  {
   "cell_type": "code",
   "execution_count": 124,
   "metadata": {},
   "outputs": [],
   "source": [
    "def make_counter(x):\n",
    "    print('函数开始:')\n",
    "    while True:\n",
    "        yield x\n",
    "        print('x正在增加...')\n",
    "        x += 1\n",
    "        \n",
    "# make_counter中出现的yield命令的意思是这不是一个普通的函数。\n",
    "# 它是一次生成一个值的特殊类型函数。可以将其看作为可恢复函数。\n",
    "# 调用该函数将返回一个可用于生成连续x值的生成器【Generator】"
   ]
  },
  {
   "cell_type": "code",
   "execution_count": 125,
   "metadata": {},
   "outputs": [
    {
     "data": {
      "text/plain": [
       "<generator object make_counter at 0x10750bb88>"
      ]
     },
     "execution_count": 125,
     "metadata": {},
     "output_type": "execute_result"
    }
   ],
   "source": [
    "counter = make_counter(2) \n",
    "# 创建make_counter生成器的实例\n",
    "# 并不实际执行函数代码。\n",
    "\n",
    "counter\n",
    "# 一个生成器对象。"
   ]
  },
  {
   "cell_type": "code",
   "execution_count": 126,
   "metadata": {},
   "outputs": [
    {
     "name": "stdout",
     "output_type": "stream",
     "text": [
      "函数开始:\n"
     ]
    },
    {
     "data": {
      "text/plain": [
       "2"
      ]
     },
     "execution_count": 126,
     "metadata": {},
     "output_type": "execute_result"
    }
   ],
   "source": [
    "next(counter)\n",
    "# next()函数以第一个生成器对象为参数，并返回其下一个值。\n",
    "# 对counter生成器【第一次调用next()】，\n",
    "# 它针对第一条yield语句执行make_counter()中的代码，然后返回所产生的值。\n",
    "# 故该代码输出将为2，因为其仅通过调用make_counter(2)对生成器进行初始化创建。"
   ]
  },
  {
   "cell_type": "code",
   "execution_count": 127,
   "metadata": {},
   "outputs": [
    {
     "name": "stdout",
     "output_type": "stream",
     "text": [
      "x正在增加...\n"
     ]
    },
    {
     "data": {
      "text/plain": [
       "3"
      ]
     },
     "execution_count": 127,
     "metadata": {},
     "output_type": "execute_result"
    }
   ],
   "source": [
    "next(counter)\n",
    "# 对同一个Generator对象反复调用next()将确切地从上次调用的位置开始继续，\n",
    "# 直到下一条yield语句。\n",
    "# 所有的变量、局部数据等内容在yield时被保存，在next()时被回复。\n",
    "# 下一行代码等待被执行以调用print以打印出incrementing x。\n",
    "# 之后，执行语句x+=1。\n",
    "# 然后继续通过while再次循环，而它再次遇到yield，将保存所有一切状态，\n",
    "# 并返回当前x的值（当前为3）"
   ]
  },
  {
   "cell_type": "code",
   "execution_count": 70,
   "metadata": {},
   "outputs": [
    {
     "name": "stdout",
     "output_type": "stream",
     "text": [
      "x正在增加...\n"
     ]
    },
    {
     "data": {
      "text/plain": [
       "4"
      ]
     },
     "execution_count": 70,
     "metadata": {},
     "output_type": "execute_result"
    }
   ],
   "source": [
    "next(counter) # 同理"
   ]
  },
  {
   "cell_type": "code",
   "execution_count": 107,
   "metadata": {},
   "outputs": [],
   "source": [
    "def make_counter(x):\n",
    "    print('倒计时...')\n",
    "    while(x > 0):\n",
    "        print(x)\n",
    "        x = x - 1\n"
   ]
  },
  {
   "cell_type": "code",
   "execution_count": 109,
   "metadata": {},
   "outputs": [
    {
     "name": "stdout",
     "output_type": "stream",
     "text": [
      "倒计时...\n",
      "5\n",
      "4\n",
      "3\n",
      "2\n",
      "1\n"
     ]
    }
   ],
   "source": [
    "make_counter(5)"
   ]
  },
  {
   "cell_type": "code",
   "execution_count": 135,
   "metadata": {},
   "outputs": [],
   "source": [
    "# 拿来对比\n",
    "def make_counter(x):\n",
    "    print('函数开始:')\n",
    "    while True:\n",
    "        yield x\n",
    "        print('x正在增加...')\n",
    "        x += 1\n",
    "        "
   ]
  },
  {
   "cell_type": "code",
   "execution_count": 140,
   "metadata": {},
   "outputs": [],
   "source": [
    "def mc_generator_yield(x):\n",
    "    print('倒计时...')\n",
    "    while x >= 0:\n",
    "        yield x # 要标记yield哪个变量\n",
    "        x = x - 1"
   ]
  },
  {
   "cell_type": "code",
   "execution_count": null,
   "metadata": {},
   "outputs": [],
   "source": []
  },
  {
   "cell_type": "code",
   "execution_count": 143,
   "metadata": {},
   "outputs": [
    {
     "name": "stdout",
     "output_type": "stream",
     "text": [
      "倒计时...\n",
      "5\n",
      "4\n",
      "3\n",
      "2\n",
      "1\n",
      "0\n"
     ]
    }
   ],
   "source": [
    "counter = mc_generator_yield\n",
    "for n in counter(5):\n",
    "    print(n)"
   ]
  },
  {
   "cell_type": "code",
   "execution_count": 139,
   "metadata": {},
   "outputs": [
    {
     "data": {
      "text/plain": [
       "4"
      ]
     },
     "execution_count": 139,
     "metadata": {},
     "output_type": "execute_result"
    }
   ],
   "source": [
    "next(counter)"
   ]
  },
  {
   "cell_type": "markdown",
   "metadata": {},
   "source": [
    "### 斐波娜契生成器\n",
    "-----\n",
    "1. “yield暂停一个函数”。\"next()\"从其暂停处恢复其运行。\n",
    "\n",
    "\n",
    "2. 将不用next()实现Generators"
   ]
  },
  {
   "cell_type": "code",
   "execution_count": 71,
   "metadata": {},
   "outputs": [],
   "source": [
    "def fib(max):\n",
    "    a,b=0,1\n",
    "    while a<max:\n",
    "        yield a # 暂停\n",
    "        a , b = b, a + b"
   ]
  },
  {
   "cell_type": "code",
   "execution_count": 73,
   "metadata": {},
   "outputs": [
    {
     "name": "stdout",
     "output_type": "stream",
     "text": [
      "0\n",
      "1\n",
      "1\n",
      "2\n",
      "3\n",
      "5\n",
      "8\n",
      "13\n"
     ]
    }
   ],
   "source": [
    "for n in fib(20): # 方式1:for循环中使用生成器\n",
    "    print(n)"
   ]
  },
  {
   "cell_type": "code",
   "execution_count": 75,
   "metadata": {},
   "outputs": [
    {
     "name": "stdout",
     "output_type": "stream",
     "text": [
      "<class 'generator'>\n"
     ]
    },
    {
     "data": {
      "text/plain": [
       "[0, 1, 1, 2, 3, 5, 8, 13, 21, 34, 55, 89]"
      ]
     },
     "execution_count": 75,
     "metadata": {},
     "output_type": "execute_result"
    }
   ],
   "source": [
    "print(type(fib(100)))\n",
    "list(fib(100)) # 方式2:list中使用生成器"
   ]
  },
  {
   "cell_type": "markdown",
   "metadata": {},
   "source": [
    "### 复数规则生成器 A Plural Rule Generator\n",
    "1. 首先去回顾下加入yield的plural()函数"
   ]
  },
  {
   "cell_type": "code",
   "execution_count": 240,
   "metadata": {},
   "outputs": [],
   "source": [
    "re.sub?"
   ]
  },
  {
   "cell_type": "code",
   "execution_count": 247,
   "metadata": {},
   "outputs": [],
   "source": [
    "def build_match_and_apply_functions(pattern, search, replace):\n",
    "    def match_rules(word):\n",
    "        return re.search(pattern, word)\n",
    "    def apply_rules(word):\n",
    "        return re.sub(search, replace, word)\n",
    "    return (match_rules, apply_rules)\n",
    "\n",
    "# rules是按照需求连续征程匹配和应用函数的生成器\n",
    "def rules(rules_filename):\n",
    "    with open(rules_filename, encoding='utf-8') as pattern_file:\n",
    "        for line in pattern_file:\n",
    "            pattern,search,replace = line.split(None,3) # 1：获取三‘列’的值\n",
    "            yield build_match_and_apply_functions(pattern,search,replace) # 2：该函数动态创建两个函数\n",
    "\n",
    "def plural(noun, rules_filename='plural-rules.txt'):\n",
    "    for m_r, a_r in rules(rules_filename): # 3 ⭐️\n",
    "        if m_r(noun):\n",
    "            # print(m_r(noun))\n",
    "            # print(a_r(noun))\n",
    "            return a_r(noun)\n",
    "    raise ValueError('no matching rule for {0}'.format(noun))\n",
    "    \n",
    "# 3 由于rules()是生成器，可直接在for循环中使用它。\n",
    "#   对for循环的第一次遍历，可以调用rules()函数打开匹配模式文件，读取第一行——从该行的模式动态创建一个匹配\n",
    "#   函数和应用函数，然后生成动态创建的函数。\n",
    "#   对for循环的第二次遍历，将会精确回到rules()上次离开的位置——for line in pattern_file循环的中间。\n",
    "#   要进行的第一项工作是读取文件（仍处于打开状态）的下一行，基于改行的模式动态创建另一匹配和应用函数，然后\n",
    "#   生成两个函数m_r和a_r"
   ]
  },
  {
   "cell_type": "markdown",
   "metadata": {},
   "source": [
    "1. 通过第四步获得了什么呢?启动时间。在第四步中引入 plural4 模块（本文为plural函数）时，它读取了整个模式文件，并创建了一份所有可能规则 的列表，甚至在考虑调用 plural() 函数之前。有了生成器，可 以轻松地处理所有工作:可以读取规则，创建函数并试用它 们，如果该规则可用甚至可以不读取文件剩下的部分或创建更 多的函数。\n",
    "2. 失去了什么?性能!每次调用 plural() 函数，rules() 生成器 将从头开始——这意味着重新打开模式文件，并从头开始读 取，每次一行。\n",
    "要是能够两全其美多好啊:最低的启动成本(无需对 import 执 行任何代码)，同时 最佳的性能(无需一次次地创建同一函 数)。哦，还需将规则保存在单独的文件中(因为代码和数据 要泾渭分明)，还有就是永远不必两次读取同一行。\n",
    "要实现该目标，必须建立自己的生成器。在进行此工作之前， 必须对 Python 的类进行学习。"
   ]
  },
  {
   "cell_type": "code",
   "execution_count": 248,
   "metadata": {},
   "outputs": [
    {
     "data": {
      "text/plain": [
       "'watches'"
      ]
     },
     "execution_count": 248,
     "metadata": {},
     "output_type": "execute_result"
    }
   ],
   "source": [
    "plural('watch')"
   ]
  },
  {
   "cell_type": "markdown",
   "metadata": {},
   "source": [
    "### 总结\n",
    "----\n",
    "\n",
    "1. 生成器的构造：yield\n",
    "2. 动态函数：函数内创建函数\n",
    "3. 闭合（在动态函数中使用外部参数：本例是noun）的含义与使用"
   ]
  },
  {
   "cell_type": "code",
   "execution_count": null,
   "metadata": {},
   "outputs": [],
   "source": []
  }
 ],
 "metadata": {
  "kernelspec": {
   "display_name": "Python 3",
   "language": "python",
   "name": "python3"
  },
  "language_info": {
   "codemirror_mode": {
    "name": "ipython",
    "version": 3
   },
   "file_extension": ".py",
   "mimetype": "text/x-python",
   "name": "python",
   "nbconvert_exporter": "python",
   "pygments_lexer": "ipython3",
   "version": "3.7.3"
  }
 },
 "nbformat": 4,
 "nbformat_minor": 2
}
