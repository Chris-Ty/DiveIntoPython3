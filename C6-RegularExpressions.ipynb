{
 "cells": [
  {
   "cell_type": "markdown",
   "metadata": {},
   "source": [
    "### 案例研究：街道地址"
   ]
  },
  {
   "cell_type": "code",
   "execution_count": 3,
   "metadata": {},
   "outputs": [],
   "source": [
    "s = '100 NORTH MAIN ROAD'"
   ]
  },
  {
   "cell_type": "code",
   "execution_count": 5,
   "metadata": {},
   "outputs": [
    {
     "data": {
      "text/plain": [
       "'100 NORTH MAIN RD.'"
      ]
     },
     "execution_count": 5,
     "metadata": {},
     "output_type": "execute_result"
    }
   ],
   "source": [
    "s.replace('ROAD', 'RD.')"
   ]
  },
  {
   "cell_type": "code",
   "execution_count": 15,
   "metadata": {},
   "outputs": [],
   "source": [
    "s = '100 NORTH BROAD ROAD' # 两个ROAD，繁琐"
   ]
  },
  {
   "cell_type": "code",
   "execution_count": 14,
   "metadata": {},
   "outputs": [
    {
     "data": {
      "text/plain": [
       "'100 NORTH BROAD RD.'"
      ]
     },
     "execution_count": 14,
     "metadata": {},
     "output_type": "execute_result"
    }
   ],
   "source": [
    "s[:-4]+s[-4:].replace('ROAD', 'RD.') # 果然繁琐"
   ]
  },
  {
   "cell_type": "code",
   "execution_count": 2,
   "metadata": {},
   "outputs": [],
   "source": [
    "import re"
   ]
  },
  {
   "cell_type": "code",
   "execution_count": 17,
   "metadata": {},
   "outputs": [
    {
     "data": {
      "text/plain": [
       "'100 NORTH BROAD RD.'"
      ]
     },
     "execution_count": 17,
     "metadata": {},
     "output_type": "execute_result"
    }
   ],
   "source": [
    "re.sub('ROAD$', 'RD.', s) \n",
    "# $表示字符串结尾。匹配‘ROAD’仅仅出现在字符串结尾\n",
    "# ^匹配字符串开始"
   ]
  },
  {
   "cell_type": "code",
   "execution_count": null,
   "metadata": {},
   "outputs": [],
   "source": []
  },
  {
   "cell_type": "code",
   "execution_count": 41,
   "metadata": {},
   "outputs": [],
   "source": [
    "s = '100 BROAD'"
   ]
  },
  {
   "cell_type": "code",
   "execution_count": 42,
   "metadata": {},
   "outputs": [
    {
     "data": {
      "text/plain": [
       "'100 BRD.'"
      ]
     },
     "execution_count": 42,
     "metadata": {},
     "output_type": "execute_result"
    }
   ],
   "source": [
    "re.sub('ROAD$', 'RD.', s)"
   ]
  },
  {
   "cell_type": "code",
   "execution_count": 59,
   "metadata": {},
   "outputs": [],
   "source": [
    "s = '100 B ROAD'"
   ]
  },
  {
   "cell_type": "code",
   "execution_count": 60,
   "metadata": {},
   "outputs": [
    {
     "data": {
      "text/plain": [
       "'100 B RD.'"
      ]
     },
     "execution_count": 60,
     "metadata": {},
     "output_type": "execute_result"
    }
   ],
   "source": [
    "re.sub('\\\\bROAD$', 'RD.', s) # \\b的意思是“在右（应该是左）边必须有一个分隔符”"
   ]
  },
  {
   "cell_type": "code",
   "execution_count": 4,
   "metadata": {},
   "outputs": [],
   "source": [
    "s = '100 BROAD'"
   ]
  },
  {
   "cell_type": "code",
   "execution_count": 5,
   "metadata": {},
   "outputs": [
    {
     "data": {
      "text/plain": [
       "'100 BROAD'"
      ]
     },
     "execution_count": 5,
     "metadata": {},
     "output_type": "execute_result"
    }
   ],
   "source": [
    "re.sub(r'\\bROAD$', 'RD.', s) # 原始字符串r（代表接下来的字符串中，没有任何字符需要转义）\n",
    "# ROAD左边没有分隔符（即不是单独的单词） 重"
   ]
  },
  {
   "cell_type": "code",
   "execution_count": 83,
   "metadata": {},
   "outputs": [],
   "source": [
    "# ROAD 不是单词结尾了，$不再能够直接使用\n",
    "s = '100 BROAD ROAD APT. 3'"
   ]
  },
  {
   "cell_type": "code",
   "execution_count": 78,
   "metadata": {},
   "outputs": [
    {
     "data": {
      "text/plain": [
       "'100 BROAD RD. APT. 3'"
      ]
     },
     "execution_count": 78,
     "metadata": {},
     "output_type": "execute_result"
    }
   ],
   "source": [
    "re.sub(r'\\bROAD', 'RD.', s) # Got it"
   ]
  },
  {
   "cell_type": "code",
   "execution_count": 80,
   "metadata": {},
   "outputs": [],
   "source": [
    "s = '100 BROAD ROAD APT. 3'"
   ]
  },
  {
   "cell_type": "code",
   "execution_count": 81,
   "metadata": {},
   "outputs": [
    {
     "data": {
      "text/plain": [
       "'100 BROAD RD. APT. 3'"
      ]
     },
     "execution_count": 81,
     "metadata": {},
     "output_type": "execute_result"
    }
   ],
   "source": [
    "re.sub(r'\\bROAD\\b', 'RD.', s) # Can do, too\n"
   ]
  },
  {
   "cell_type": "code",
   "execution_count": null,
   "metadata": {},
   "outputs": [],
   "source": []
  },
  {
   "cell_type": "markdown",
   "metadata": {},
   "source": [
    "### 案例研究：罗马数字（略）"
   ]
  },
  {
   "cell_type": "markdown",
   "metadata": {},
   "source": [
    "### Using The {n,m} Syntax（略）"
   ]
  },
  {
   "cell_type": "markdown",
   "metadata": {},
   "source": [
    "### 松散正则表达式 Verbose Regular Expressions\n",
    "------\n",
    "到目前为止，你只是处理了一些小型的正则表达式。就像你所\n",
    "看到的，他们难以阅读，甚至你不能保证半年后，你还能理解\n",
    "这些东西，并指出他们是干什么的。所以你需要在正则表达式\n",
    "内部添加一些说明信息。"
   ]
  },
  {
   "cell_type": "markdown",
   "metadata": {},
   "source": [
    "### 将上述紧凑正则表达式改写成松散正则表达式（罗马数字案例） 略"
   ]
  },
  {
   "cell_type": "code",
   "execution_count": null,
   "metadata": {},
   "outputs": [],
   "source": []
  },
  {
   "cell_type": "markdown",
   "metadata": {},
   "source": [
    "### 案例研究：解析电话号码 Case study: Parsing Phone Numbers\n",
    "-----\n",
    "1. \\d 匹配所有 0‐9 的数字\n",
    "2. \\D 匹配除了数字外的所有字符."
   ]
  },
  {
   "cell_type": "markdown",
   "metadata": {},
   "source": [
    "800‐555‐1212(如果还有分机号那就再加上1234)"
   ]
  },
  {
   "cell_type": "code",
   "execution_count": 85,
   "metadata": {},
   "outputs": [],
   "source": [
    "phonePattern = re.compile(r'^(\\d{3})-(\\d{3})-(\\d{4})$')"
   ]
  },
  {
   "cell_type": "code",
   "execution_count": 87,
   "metadata": {},
   "outputs": [
    {
     "data": {
      "text/plain": [
       "('800', '555', '1212')"
      ]
     },
     "execution_count": 87,
     "metadata": {},
     "output_type": "execute_result"
    }
   ],
   "source": [
    "phonePattern.search('800-555-1212').groups()"
   ]
  },
  {
   "cell_type": "code",
   "execution_count": 91,
   "metadata": {},
   "outputs": [
    {
     "ename": "AttributeError",
     "evalue": "'NoneType' object has no attribute 'groups'",
     "output_type": "error",
     "traceback": [
      "\u001b[0;31m---------------------------------------------------------------------------\u001b[0m",
      "\u001b[0;31mAttributeError\u001b[0m                            Traceback (most recent call last)",
      "\u001b[0;32m<ipython-input-91-11a90906acf9>\u001b[0m in \u001b[0;36m<module>\u001b[0;34m\u001b[0m\n\u001b[0;32m----> 1\u001b[0;31m \u001b[0mphonePattern\u001b[0m\u001b[0;34m.\u001b[0m\u001b[0msearch\u001b[0m\u001b[0;34m(\u001b[0m\u001b[0;34m'800-555-1212-1234'\u001b[0m\u001b[0;34m)\u001b[0m\u001b[0;34m.\u001b[0m\u001b[0mgroups\u001b[0m\u001b[0;34m(\u001b[0m\u001b[0;34m)\u001b[0m\u001b[0;34m\u001b[0m\u001b[0;34m\u001b[0m\u001b[0m\n\u001b[0m\u001b[1;32m      2\u001b[0m \u001b[0;34m\u001b[0m\u001b[0m\n\u001b[1;32m      3\u001b[0m \u001b[0;31m# 这是为什么你不能在产品代码中链式调用 search()和 groups() 的原因。\u001b[0m\u001b[0;34m\u001b[0m\u001b[0;34m\u001b[0m\u001b[0;34m\u001b[0m\u001b[0m\n\u001b[1;32m      4\u001b[0m \u001b[0;31m# 如果 search()方法匹配不成功，也就是返回 None，这 就不是返回的一个正则表达式匹配对象。\u001b[0m\u001b[0;34m\u001b[0m\u001b[0;34m\u001b[0m\u001b[0;34m\u001b[0m\u001b[0m\n\u001b[1;32m      5\u001b[0m \u001b[0;31m# 它没有 groups()方 法，所以调用 None.groups()将会抛出一个异常。\u001b[0m\u001b[0;34m\u001b[0m\u001b[0;34m\u001b[0m\u001b[0;34m\u001b[0m\u001b[0m\n",
      "\u001b[0;31mAttributeError\u001b[0m: 'NoneType' object has no attribute 'groups'"
     ]
    }
   ],
   "source": [
    "phonePattern.search('800-555-1212-1234').groups()\n",
    "\n",
    "# 这是为什么你不能在产品代码中链式调用 search()和 groups() 的原因。\n",
    "# 如果 search()方法匹配不成功，也就是返回 None，\n",
    "# 这 就不是返回的一个正则表达式匹配对象。\n",
    "# 它没有 groups()方 法，所以调用 None.groups()将会抛出一个异常。"
   ]
  },
  {
   "cell_type": "code",
   "execution_count": 96,
   "metadata": {},
   "outputs": [
    {
     "data": {
      "text/plain": [
       "('800', '555', '1212', '1234')"
      ]
     },
     "execution_count": 96,
     "metadata": {},
     "output_type": "execute_result"
    }
   ],
   "source": [
    "phonePattern = re.compile(r'^(\\d{3})-(\\d{3})-(\\d{4})-(\\d+)$')\n",
    "phonePattern.search('800-555-1212-1234').groups() # 问题是不含分机号的又不能查了"
   ]
  },
  {
   "cell_type": "code",
   "execution_count": 98,
   "metadata": {},
   "outputs": [
    {
     "ename": "AttributeError",
     "evalue": "'NoneType' object has no attribute 'groups'",
     "output_type": "error",
     "traceback": [
      "\u001b[0;31m---------------------------------------------------------------------------\u001b[0m",
      "\u001b[0;31mAttributeError\u001b[0m                            Traceback (most recent call last)",
      "\u001b[0;32m<ipython-input-98-56caea00d206>\u001b[0m in \u001b[0;36m<module>\u001b[0;34m\u001b[0m\n\u001b[0;32m----> 1\u001b[0;31m \u001b[0mphonePattern\u001b[0m\u001b[0;34m.\u001b[0m\u001b[0msearch\u001b[0m\u001b[0;34m(\u001b[0m\u001b[0;34m'800 555 1212 1234'\u001b[0m\u001b[0;34m)\u001b[0m\u001b[0;34m.\u001b[0m\u001b[0mgroups\u001b[0m\u001b[0;34m(\u001b[0m\u001b[0;34m)\u001b[0m\u001b[0;34m\u001b[0m\u001b[0;34m\u001b[0m\u001b[0m\n\u001b[0m",
      "\u001b[0;31mAttributeError\u001b[0m: 'NoneType' object has no attribute 'groups'"
     ]
    }
   ],
   "source": [
    "phonePattern.search('800 555 1212 1234').groups() # 没有分隔符也不能查了"
   ]
  },
  {
   "cell_type": "markdown",
   "metadata": {},
   "source": [
    " ##### 下面的例子展示了正则表达式中怎么处理电话号码中各个部分之间使用了不同分隔符的情况。"
   ]
  },
  {
   "cell_type": "code",
   "execution_count": 100,
   "metadata": {},
   "outputs": [],
   "source": [
    "phonePattern = re.compile(r'^(\\d{3})\\D+(\\d{3})\\D+(\\d{4})\\D+(\\d+)$')"
   ]
  },
  {
   "cell_type": "code",
   "execution_count": 101,
   "metadata": {},
   "outputs": [
    {
     "data": {
      "text/plain": [
       "('800', '555', '1212', '1234')"
      ]
     },
     "execution_count": 101,
     "metadata": {},
     "output_type": "execute_result"
    }
   ],
   "source": [
    "phonePattern.search('800 555 1212 1234').groups()"
   ]
  },
  {
   "cell_type": "code",
   "execution_count": 102,
   "metadata": {},
   "outputs": [
    {
     "ename": "AttributeError",
     "evalue": "'NoneType' object has no attribute 'groups'",
     "output_type": "error",
     "traceback": [
      "\u001b[0;31m---------------------------------------------------------------------------\u001b[0m",
      "\u001b[0;31mAttributeError\u001b[0m                            Traceback (most recent call last)",
      "\u001b[0;32m<ipython-input-102-2a5061672926>\u001b[0m in \u001b[0;36m<module>\u001b[0;34m\u001b[0m\n\u001b[0;32m----> 1\u001b[0;31m \u001b[0mphonePattern\u001b[0m\u001b[0;34m.\u001b[0m\u001b[0msearch\u001b[0m\u001b[0;34m(\u001b[0m\u001b[0;34m'80055512121234'\u001b[0m\u001b[0;34m)\u001b[0m\u001b[0;34m.\u001b[0m\u001b[0mgroups\u001b[0m\u001b[0;34m(\u001b[0m\u001b[0;34m)\u001b[0m\u001b[0;34m\u001b[0m\u001b[0;34m\u001b[0m\u001b[0m\n\u001b[0m",
      "\u001b[0;31mAttributeError\u001b[0m: 'NoneType' object has no attribute 'groups'"
     ]
    }
   ],
   "source": [
    "phonePattern.search('80055512121234').groups() # Can not, either"
   ]
  },
  {
   "cell_type": "code",
   "execution_count": 105,
   "metadata": {},
   "outputs": [
    {
     "ename": "AttributeError",
     "evalue": "'NoneType' object has no attribute 'groups'",
     "output_type": "error",
     "traceback": [
      "\u001b[0;31m---------------------------------------------------------------------------\u001b[0m",
      "\u001b[0;31mAttributeError\u001b[0m                            Traceback (most recent call last)",
      "\u001b[0;32m<ipython-input-105-f35f96f0fd18>\u001b[0m in \u001b[0;36m<module>\u001b[0;34m\u001b[0m\n\u001b[0;32m----> 1\u001b[0;31m \u001b[0mphonePattern\u001b[0m\u001b[0;34m.\u001b[0m\u001b[0msearch\u001b[0m\u001b[0;34m(\u001b[0m\u001b[0;34m'800‐555‐1212'\u001b[0m\u001b[0;34m)\u001b[0m\u001b[0;34m.\u001b[0m\u001b[0mgroups\u001b[0m\u001b[0;34m(\u001b[0m\u001b[0;34m)\u001b[0m \u001b[0;31m# Can not, either\u001b[0m\u001b[0;34m\u001b[0m\u001b[0;34m\u001b[0m\u001b[0m\n\u001b[0m",
      "\u001b[0;31mAttributeError\u001b[0m: 'NoneType' object has no attribute 'groups'"
     ]
    }
   ],
   "source": [
    "phonePattern.search('800‐555‐1212').groups() # Can not, either"
   ]
  },
  {
   "cell_type": "markdown",
   "metadata": {},
   "source": [
    "下面的例子展示用正则表达式处理电话号码没有分隔符的情况。\n",
    "\n",
    "1. *有（可以多个）或没有 +一个或多个\n",
    "2.  最后的(\\d*) 分机号可以没有"
   ]
  },
  {
   "cell_type": "code",
   "execution_count": 109,
   "metadata": {},
   "outputs": [],
   "source": [
    "phonePattern = \\\n",
    "re.compile(r'^(\\d{3})\\D*(\\d{3})\\D*(\\d{4})\\D*(\\d*)$')"
   ]
  },
  {
   "cell_type": "code",
   "execution_count": 110,
   "metadata": {},
   "outputs": [
    {
     "data": {
      "text/plain": [
       "('800', '555', '1212', '1234')"
      ]
     },
     "execution_count": 110,
     "metadata": {},
     "output_type": "execute_result"
    }
   ],
   "source": [
    "phonePattern.search('80055512121234').groups() # okay"
   ]
  },
  {
   "cell_type": "code",
   "execution_count": 111,
   "metadata": {},
   "outputs": [
    {
     "data": {
      "text/plain": [
       "('800', '555', '1212', '1234')"
      ]
     },
     "execution_count": 111,
     "metadata": {},
     "output_type": "execute_result"
    }
   ],
   "source": [
    "phonePattern.search('800.555.1212 x1234').groups()"
   ]
  },
  {
   "cell_type": "code",
   "execution_count": 113,
   "metadata": {},
   "outputs": [
    {
     "data": {
      "text/plain": [
       "('800', '555', '1212', '')"
      ]
     },
     "execution_count": 113,
     "metadata": {},
     "output_type": "execute_result"
    }
   ],
   "source": [
    "phonePattern.search('800‐555‐1212').groups()"
   ]
  },
  {
   "cell_type": "code",
   "execution_count": 116,
   "metadata": {},
   "outputs": [],
   "source": [
    "phonePattern.search('(800)5551212 x1234') \n",
    "# No way like this- -\n",
    "# 区域码前还可能有其他字符"
   ]
  },
  {
   "cell_type": "markdown",
   "metadata": {},
   "source": [
    "下面的例子展示怎么处理电话号码前面还有其他字符的情况。\n",
    "\n",
    "使用 0 个或更多的非数字字符串来跳过区位码前面的字符(即\\D*)"
   ]
  },
  {
   "cell_type": "code",
   "execution_count": 117,
   "metadata": {},
   "outputs": [],
   "source": [
    "phonePattern = \\\n",
    "re.compile(r'^\\D*(\\d{3})\\D*(\\d{3})\\D*(\\d{4})\\D*(\\d*)$')"
   ]
  },
  {
   "cell_type": "code",
   "execution_count": 118,
   "metadata": {},
   "outputs": [
    {
     "data": {
      "text/plain": [
       "('800', '555', '1212', '1234')"
      ]
     },
     "execution_count": 118,
     "metadata": {},
     "output_type": "execute_result"
    }
   ],
   "source": [
    "phonePattern.search('(800)5551212 ext. 1234').groups()"
   ]
  },
  {
   "cell_type": "code",
   "execution_count": 120,
   "metadata": {},
   "outputs": [],
   "source": [
    "phonePattern.search('work 1‐(800) 555.1212 #1234') # No way like this for now"
   ]
  },
  {
   "cell_type": "code",
   "execution_count": 121,
   "metadata": {},
   "outputs": [],
   "source": [
    "# 像上面这种不明确匹配字符串开始的方法\n",
    "phonePattern = re.compile(r'(\\d{3})\\D*(\\d{3})\\D*(\\d{4})\\D*(\\d*)$')"
   ]
  },
  {
   "cell_type": "code",
   "execution_count": 127,
   "metadata": {},
   "outputs": [
    {
     "data": {
      "text/plain": [
       "('800', '555', '1212', '1234')"
      ]
     },
     "execution_count": 127,
     "metadata": {},
     "output_type": "execute_result"
    }
   ],
   "source": [
    "phonePattern.search('work 1‐(800) 555.1212 #1234').groups() \n",
    "# 注意正则表达式没有^。不会再匹配字符串开始位置了。\n",
    "# 正则表达式不会匹配整个字符串，\n",
    "# 而是试图找到一个字符串开始匹 配的位置，然后从这个位置开始匹配。\n",
    "\n",
    "# 可以正确的解析出字符串开头有不需要的字符、数字或者其他分隔符的情况了。"
   ]
  },
  {
   "cell_type": "code",
   "execution_count": 125,
   "metadata": {},
   "outputs": [
    {
     "data": {
      "text/plain": [
       "('800', '555', '1212', '')"
      ]
     },
     "execution_count": 125,
     "metadata": {},
     "output_type": "execute_result"
    }
   ],
   "source": [
    "phonePattern.search('800‐555‐1212').groups() # 全面性检查，同样正常工作了。"
   ]
  },
  {
   "cell_type": "code",
   "execution_count": 131,
   "metadata": {},
   "outputs": [
    {
     "data": {
      "text/plain": [
       "('800', '555', '1212', '1234')"
      ]
     },
     "execution_count": 131,
     "metadata": {},
     "output_type": "execute_result"
    }
   ],
   "source": [
    "phonePattern.search('80055512121234').groups() # It works, too"
   ]
  },
  {
   "cell_type": "markdown",
   "metadata": {},
   "source": [
    "你看到了最终的答案(这就是最终答案!如果你发现还有它不 能正确处理的情况，我也不想知道了--作者还挺幽默)。在你忘掉它之前，我们来把它改写成松散正则表达式吧。"
   ]
  },
  {
   "cell_type": "code",
   "execution_count": 132,
   "metadata": {},
   "outputs": [],
   "source": [
    "phonePattern = re.compile(r'''\n",
    "                # don't match beginning of string, number can start anywhere\n",
    "    (\\d{3})     # area code is 3 digits (e.g. '800')\n",
    "    \\D*         # optional separator is any number of non-digits\n",
    "    (\\d{3})     # trunk is 3 digits (e.g. '555')\n",
    "    \\D*         # optional separator\n",
    "    (\\d{4})     # rest of number is 4 digits (e.g. '1212')\n",
    "    \\D*         # optional separator\n",
    "    (\\d*)       # extension is optional and can be any number of digits\n",
    "    $           # end of string\n",
    "    ''', re.VERBOSE)"
   ]
  },
  {
   "cell_type": "code",
   "execution_count": 133,
   "metadata": {},
   "outputs": [
    {
     "data": {
      "text/plain": [
       "('800', '555', '1212', '1234')"
      ]
     },
     "execution_count": 133,
     "metadata": {},
     "output_type": "execute_result"
    }
   ],
   "source": [
    "phonePattern.search('work 1‐(800) 555.1212 #1234').groups()"
   ]
  },
  {
   "cell_type": "code",
   "execution_count": null,
   "metadata": {},
   "outputs": [],
   "source": []
  },
  {
   "cell_type": "markdown",
   "metadata": {},
   "source": [
    "# 总结\n",
    "----------\n",
    "• ^ 匹配字符串开始位置。\n",
    "\n",
    "• $ 匹配字符串结束位置。\n",
    "\n",
    "• \\b 匹配一个单词边界。\n",
    "\n",
    "• \\d 匹配一个数字。\n",
    "\n",
    "• \\D 匹配一个任意的非数字字符。\n",
    "\n",
    "• x?匹配可选的 x 字符。换句话说，就是 0 个或者 1 个 x 字\n",
    "符。\n",
    "\n",
    "• x*匹配0个或更多的x。\n",
    "\n",
    "• x+匹配1个或者更多x。\n",
    "\n",
    "• x{n,m}匹配n到m个x，至少n个，不能超过m个。\n",
    "\n",
    "• (a|b|c) 匹配单独的任意一个 a 或者 b 或者 c。\n",
    "\n",
    "• (x) 这是一个组，它会记忆它匹配到的字符串。你可以用\n",
    "\n",
    "• 补充：[sxz]的意思是：“s、x或z”,只匹配其中之一。\n",
    "\n",
    "\n",
    "re.search 返回的匹配对象的 groups()函数来获取到匹配的值。"
   ]
  },
  {
   "cell_type": "code",
   "execution_count": null,
   "metadata": {},
   "outputs": [],
   "source": []
  }
 ],
 "metadata": {
  "kernelspec": {
   "display_name": "Python 3",
   "language": "python",
   "name": "python3"
  },
  "language_info": {
   "codemirror_mode": {
    "name": "ipython",
    "version": 3
   },
   "file_extension": ".py",
   "mimetype": "text/x-python",
   "name": "python",
   "nbconvert_exporter": "python",
   "pygments_lexer": "ipython3",
   "version": "3.7.3"
  }
 },
 "nbformat": 4,
 "nbformat_minor": 2
}
